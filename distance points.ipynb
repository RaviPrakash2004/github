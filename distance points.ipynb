{
 "cells": [
  {
   "cell_type": "markdown",
   "id": "6ec63af1",
   "metadata": {},
   "source": [
    "### Program to print distance between two points\n"
   ]
  },
  {
   "cell_type": "code",
   "execution_count": 7,
   "id": "58e90e93",
   "metadata": {},
   "outputs": [
    {
     "name": "stdout",
     "output_type": "stream",
     "text": [
      "Enter the x1 value-2\n",
      "Enter the x2 value-2\n",
      "Enter the y1 value--1\n",
      "Enter the y2 value-3\n",
      "4\n"
     ]
    }
   ],
   "source": [
    "x1=int(input(\"Enter the x1 value-\"))\n",
    "x2=int(input(\"Enter the x2 value-\"))\n",
    "y1=int(input(\"Enter the y1 value-\"))\n",
    "y2=int(input(\"Enter the y2 value-\"))\n",
    "a=(x2-x1)**2\n",
    "b=(y2-y1)**2\n",
    "import math\n",
    "c=int(math.sqrt(a+b))\n",
    "print(c)"
   ]
  },
  {
   "cell_type": "code",
   "execution_count": 9,
   "id": "1a3eb5bb",
   "metadata": {},
   "outputs": [
    {
     "name": "stdout",
     "output_type": "stream",
     "text": [
      "Enter the x1 value-2\n",
      "Enter the x2 value-2\n",
      "Enter the y1 value--1\n",
      "Enter the y2 value-3\n",
      "4\n"
     ]
    }
   ],
   "source": [
    "x1=int(input(\"Enter the x1 value-\"))\n",
    "x2=int(input(\"Enter the x2 value-\"))\n",
    "y1=int(input(\"Enter the y1 value-\"))\n",
    "y2=int(input(\"Enter the y2 value-\"))\n",
    "import math\n",
    "a=int(math.sqrt((x2-x1)**2+(y2-y1)**2))\n",
    "print(a)"
   ]
  },
  {
   "cell_type": "code",
   "execution_count": 2,
   "id": "217ac945",
   "metadata": {},
   "outputs": [
    {
     "name": "stdout",
     "output_type": "stream",
     "text": [
      "Enter the x1 value-2\n",
      "Enter the x2 value-2\n",
      "Enter the y1 value--1\n",
      "Enter the y2 value-3\n",
      "4\n"
     ]
    }
   ],
   "source": [
    "x1=int(input(\"Enter the x1 value-\"))\n",
    "x2=int(input(\"Enter the x2 value-\"))\n",
    "y1=int(input(\"Enter the y1 value-\"))\n",
    "y2=int(input(\"Enter the y2 value-\"))\n",
    "b=int(((x2-x1)**2+(y2-y1)**2)**0.5)\n",
    "print(b)"
   ]
  },
  {
   "cell_type": "code",
   "execution_count": 4,
   "id": "feb5984e",
   "metadata": {},
   "outputs": [
    {
     "name": "stdout",
     "output_type": "stream",
     "text": [
      "Enter the x1 value-4\n",
      "Enter the x2 value-3\n",
      "Enter the y1 value-5\n",
      "Enter the y2 value-7\n",
      "The distance between two points (4, 5) and (3, 7) is 2\n"
     ]
    }
   ],
   "source": [
    "x1=int(input(\"Enter the x1 value-\"))\n",
    "x2=int(input(\"Enter the x2 value-\"))\n",
    "y1=int(input(\"Enter the y1 value-\"))\n",
    "y2=int(input(\"Enter the y2 value-\"))\n",
    "distance=int(((x2-x1)**2+(y2-y1)**2)**0.5)\n",
    "if x1==x2 and y1==y2 :\n",
    "    print(\"The distance between two points\",(x1,y1),\"and\",(x2,y2),\"is\",0)\n",
    "else:\n",
    "    print(\"The distance between two points\",(x1,y1),\"and\",(x2,y2),\"is\",distance) "
   ]
  },
  {
   "cell_type": "code",
   "execution_count": null,
   "id": "a456cf79",
   "metadata": {},
   "outputs": [],
   "source": []
  }
 ],
 "metadata": {
  "kernelspec": {
   "display_name": "Python 3 (ipykernel)",
   "language": "python",
   "name": "python3"
  },
  "language_info": {
   "codemirror_mode": {
    "name": "ipython",
    "version": 3
   },
   "file_extension": ".py",
   "mimetype": "text/x-python",
   "name": "python",
   "nbconvert_exporter": "python",
   "pygments_lexer": "ipython3",
   "version": "3.9.12"
  }
 },
 "nbformat": 4,
 "nbformat_minor": 5
}
